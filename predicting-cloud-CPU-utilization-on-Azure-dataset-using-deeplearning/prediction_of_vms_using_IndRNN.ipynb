{
 "cells": [
  {
   "cell_type": "code",
   "execution_count": 1,
   "metadata": {
    "colab": {},
    "colab_type": "code",
    "id": "K2cwBQhQIyXK"
   },
   "outputs": [],
   "source": [
    "import math\n",
    "import numpy as np\n",
    "import pandas as pd\n",
    "from sklearn.preprocessing import MinMaxScaler\n",
    "from sklearn.metrics import mean_squared_error\n",
    "import keras\n",
    "import matplotlib.pyplot as plt"
   ]
  },
  {
   "cell_type": "code",
   "execution_count": 2,
   "metadata": {
    "colab": {},
    "colab_type": "code",
    "id": "gSnfaW5XJ_Ro"
   },
   "outputs": [
    {
     "ename": "ModuleNotFoundError",
     "evalue": "No module named 'ind_rnn'",
     "output_type": "error",
     "traceback": [
      "\u001b[1;31m---------------------------------------------------------------------------\u001b[0m",
      "\u001b[1;31mModuleNotFoundError\u001b[0m                       Traceback (most recent call last)",
      "\u001b[1;32m~\\AppData\\Local\\Temp/ipykernel_14828/3025337368.py\u001b[0m in \u001b[0;36m<module>\u001b[1;34m\u001b[0m\n\u001b[0;32m      1\u001b[0m \u001b[1;32mimport\u001b[0m \u001b[0msys\u001b[0m\u001b[1;33m\u001b[0m\u001b[1;33m\u001b[0m\u001b[0m\n\u001b[0;32m      2\u001b[0m \u001b[0msys\u001b[0m\u001b[1;33m.\u001b[0m\u001b[0mpath\u001b[0m\u001b[1;33m.\u001b[0m\u001b[0mappend\u001b[0m\u001b[1;33m(\u001b[0m\u001b[1;34m'/content/drive/My Drive'\u001b[0m\u001b[1;33m)\u001b[0m\u001b[1;33m\u001b[0m\u001b[1;33m\u001b[0m\u001b[0m\n\u001b[1;32m----> 3\u001b[1;33m \u001b[1;32mfrom\u001b[0m \u001b[0mind_rnn\u001b[0m \u001b[1;32mimport\u001b[0m \u001b[0mIndRNNCell\u001b[0m\u001b[1;33m,\u001b[0m \u001b[0mRNN\u001b[0m\u001b[1;33m,\u001b[0m \u001b[0mIndRNN\u001b[0m\u001b[1;33m\u001b[0m\u001b[1;33m\u001b[0m\u001b[0m\n\u001b[0m",
      "\u001b[1;31mModuleNotFoundError\u001b[0m: No module named 'ind_rnn'"
     ]
    }
   ],
   "source": [
    "#import sys\n",
    "#sys.path.append('/content/drive/My Drive')\n",
    "#from ind_rnn import IndRNNCell, RNN, IndRNN\n"
   ]
  },
  {
   "cell_type": "code",
   "execution_count": null,
   "metadata": {
    "colab": {},
    "colab_type": "code",
    "id": "RZJLEaA5I66-"
   },
   "outputs": [],
   "source": [
    "#from google.colab import drive\n",
    "#drive.mount('/content/drive')"
   ]
  },
  {
   "cell_type": "code",
   "execution_count": null,
   "metadata": {
    "colab": {
     "base_uri": "https://localhost:8080/",
     "height": 225
    },
    "colab_type": "code",
    "executionInfo": {
     "elapsed": 5129,
     "status": "ok",
     "timestamp": 1592479759231,
     "user": {
      "displayName": "biswajit padhi",
      "photoUrl": "",
      "userId": "13405267854865162652"
     },
     "user_tz": -330
    },
    "id": "jcySI3MJPZf7",
    "outputId": "56ed4178-8645-4a3a-afbd-b4e3d72372a9"
   },
   "outputs": [],
   "source": [
    "df = pd.read_csv('AzureReadings_at_a_timestamp.csv')\n",
    "df['timestamp'] =  pd.to_datetime(df['timestamp'])\n",
    "df = df.set_index('timestamp')\n",
    "df.head()"
   ]
  },
  {
   "cell_type": "code",
   "execution_count": null,
   "metadata": {
    "colab": {},
    "colab_type": "code",
    "id": "w1m0xDuJJuWk"
   },
   "outputs": [],
   "source": [
    "dataset = df.values\n",
    "dataset = dataset.astype('float32')"
   ]
  },
  {
   "cell_type": "code",
   "execution_count": null,
   "metadata": {
    "colab": {},
    "colab_type": "code",
    "id": "48vwrCcpJzY5"
   },
   "outputs": [],
   "source": [
    "scaler = MinMaxScaler(feature_range=(0, 1))\n",
    "dataset = scaler.fit_transform(dataset)"
   ]
  },
  {
   "cell_type": "code",
   "execution_count": null,
   "metadata": {
    "colab": {
     "base_uri": "https://localhost:8080/",
     "height": 34
    },
    "colab_type": "code",
    "executionInfo": {
     "elapsed": 5119,
     "status": "ok",
     "timestamp": 1592479759235,
     "user": {
      "displayName": "biswajit padhi",
      "photoUrl": "",
      "userId": "13405267854865162652"
     },
     "user_tz": -330
    },
    "id": "04wE6qOQJ1rH",
    "outputId": "6111ee00-74a6-4d9b-90b7-77a9474de813"
   },
   "outputs": [],
   "source": [
    "train_size = int(len(dataset) * 0.8)\n",
    "test_size = len(dataset) - train_size\n",
    "train, test = dataset[0:train_size, :], dataset[train_size:len(dataset), :]\n",
    "print(len(train), len(test))"
   ]
  },
  {
   "cell_type": "code",
   "execution_count": null,
   "metadata": {
    "colab": {},
    "colab_type": "code",
    "id": "XgNzLKxVJ3pr"
   },
   "outputs": [],
   "source": [
    "def create_training_dataset(dataset, look_back=1):\n",
    "    dataX, dataY = [], []\n",
    "    for i in range(len(dataset)-look_back-1):\n",
    "        a = dataset[i:(i+look_back), :3]\n",
    "        dataX.append(a)\n",
    "        dataY.append(dataset[i + look_back, :])\n",
    "    return np.array(dataX), np.array(dataY)"
   ]
  },
  {
   "cell_type": "code",
   "execution_count": null,
   "metadata": {
    "colab": {},
    "colab_type": "code",
    "id": "iCQdz5HjJ6dP"
   },
   "outputs": [],
   "source": [
    "look_back = 5\n",
    "trainX, trainY = create_training_dataset(train, look_back=look_back)\n",
    "testX, testY = create_training_dataset(test, look_back=look_back)"
   ]
  },
  {
   "cell_type": "code",
   "execution_count": null,
   "metadata": {
    "colab": {},
    "colab_type": "code",
    "id": "VufqRhOSKNS4"
   },
   "outputs": [],
   "source": [
    "model2 = keras.models.Sequential()\n",
    "model2.add(IndRNN(128, input_shape=(trainX.shape[1], trainX.shape[2]),\n",
    "                              return_sequences=False))\n",
    "\n",
    "model2.add(keras.layers.Dense(3))"
   ]
  },
  {
   "cell_type": "code",
   "execution_count": null,
   "metadata": {
    "colab": {
     "base_uri": "https://localhost:8080/",
     "height": 218
    },
    "colab_type": "code",
    "executionInfo": {
     "elapsed": 5102,
     "status": "ok",
     "timestamp": 1592479759241,
     "user": {
      "displayName": "biswajit padhi",
      "photoUrl": "",
      "userId": "13405267854865162652"
     },
     "user_tz": -330
    },
    "id": "uPcDJxBvc9MX",
    "outputId": "ae789bd2-929a-43f1-c14c-ed8004f87a52"
   },
   "outputs": [],
   "source": [
    "model2.summary()"
   ]
  },
  {
   "cell_type": "code",
   "execution_count": null,
   "metadata": {
    "colab": {},
    "colab_type": "code",
    "id": "A2yWymmhKX53"
   },
   "outputs": [],
   "source": [
    "adamOpt = keras.optimizers.Adam(lr=0.0001, beta_1=0.9, beta_2=0.999, decay=0.0, amsgrad=False)\n",
    "model2.compile(loss='mean_squared_error', optimizer='adam', metrics=[keras.metrics.mae])"
   ]
  },
  {
   "cell_type": "code",
   "execution_count": null,
   "metadata": {
    "colab": {
     "base_uri": "https://localhost:8080/",
     "height": 706
    },
    "colab_type": "code",
    "executionInfo": {
     "elapsed": 20417,
     "status": "ok",
     "timestamp": 1592479774567,
     "user": {
      "displayName": "biswajit padhi",
      "photoUrl": "",
      "userId": "13405267854865162652"
     },
     "user_tz": -330
    },
    "id": "A5kFB0ktKbzi",
    "outputId": "7e26404b-a313-474b-c677-c9f70bd79797"
   },
   "outputs": [],
   "source": [
    "callback = keras.callbacks.EarlyStopping(patience=3)\n",
    "history2 = model2.fit(trainX, trainY, epochs=20, validation_split=0.25, batch_size=16, verbose=2, shuffle=False)"
   ]
  },
  {
   "cell_type": "code",
   "execution_count": null,
   "metadata": {
    "colab": {
     "base_uri": "https://localhost:8080/",
     "height": 50
    },
    "colab_type": "code",
    "executionInfo": {
     "elapsed": 20410,
     "status": "ok",
     "timestamp": 1592479774568,
     "user": {
      "displayName": "biswajit padhi",
      "photoUrl": "",
      "userId": "13405267854865162652"
     },
     "user_tz": -330
    },
    "id": "92fpKbrQ6LMg",
    "outputId": "5c3eabf6-2697-40ff-b896-847fe9e50ee3"
   },
   "outputs": [],
   "source": [
    "model2.evaluate(testX, testY)"
   ]
  },
  {
   "cell_type": "code",
   "execution_count": null,
   "metadata": {
    "colab": {},
    "colab_type": "code",
    "id": "QoTWUbKpKtNX"
   },
   "outputs": [],
   "source": [
    "trainPredict = model2.predict(trainX)\n",
    "testPredict = model2.predict(testX)"
   ]
  },
  {
   "cell_type": "code",
   "execution_count": null,
   "metadata": {
    "colab": {},
    "colab_type": "code",
    "id": "mUz44k4wKuBt"
   },
   "outputs": [],
   "source": [
    "trainY = scaler.inverse_transform(trainY)\n",
    "trainPredict = scaler.inverse_transform(trainPredict)\n",
    "testY = scaler.inverse_transform(testY)\n",
    "testPredict = scaler.inverse_transform(testPredict)"
   ]
  },
  {
   "cell_type": "code",
   "execution_count": null,
   "metadata": {
    "colab": {
     "base_uri": "https://localhost:8080/",
     "height": 50
    },
    "colab_type": "code",
    "executionInfo": {
     "elapsed": 20397,
     "status": "ok",
     "timestamp": 1592479774570,
     "user": {
      "displayName": "biswajit padhi",
      "photoUrl": "",
      "userId": "13405267854865162652"
     },
     "user_tz": -330
    },
    "id": "_UHiE3hoKwDQ",
    "outputId": "95b8fd4c-fe08-4e89-b6d7-31e8da23ecbc"
   },
   "outputs": [],
   "source": [
    "trainScore = math.sqrt(mean_squared_error(trainY[:], trainPredict[:]))\n",
    "print('Train Score: %.2f RMSE' % (trainScore))\n",
    "testScore = math.sqrt(mean_squared_error(testY[:], testPredict[:]))\n",
    "print('Test Score: %.2f RMSE' % (testScore))"
   ]
  },
  {
   "cell_type": "code",
   "execution_count": null,
   "metadata": {
    "colab": {
     "base_uri": "https://localhost:8080/",
     "height": 50
    },
    "colab_type": "code",
    "executionInfo": {
     "elapsed": 20390,
     "status": "ok",
     "timestamp": 1592479774571,
     "user": {
      "displayName": "biswajit padhi",
      "photoUrl": "",
      "userId": "13405267854865162652"
     },
     "user_tz": -330
    },
    "id": "hwt4-jJbPq-5",
    "outputId": "e04a672f-c9f5-472a-ead0-9985c441ae6a"
   },
   "outputs": [],
   "source": [
    "from sklearn.metrics import mean_absolute_error\n",
    "trainScore = (mean_absolute_error(trainY[:], trainPredict[:]))\n",
    "print('Train Score: %f MAE' % (trainScore))\n",
    "testScore = math.sqrt(mean_absolute_error(testY[:], testPredict[:]))\n",
    "print('Test Score: %f MAE' % (testScore))"
   ]
  },
  {
   "cell_type": "code",
   "execution_count": null,
   "metadata": {
    "colab": {
     "base_uri": "https://localhost:8080/",
     "height": 50
    },
    "colab_type": "code",
    "executionInfo": {
     "elapsed": 20384,
     "status": "ok",
     "timestamp": 1592479774572,
     "user": {
      "displayName": "biswajit padhi",
      "photoUrl": "",
      "userId": "13405267854865162652"
     },
     "user_tz": -330
    },
    "id": "KWaSB4YoQaK9",
    "outputId": "a993ee7a-af69-4c91-b00c-878dc35c61f2"
   },
   "outputs": [],
   "source": [
    "trainScore2 = np.mean(np.abs(trainPredict - trainY)/np.abs(trainY))\n",
    "print('Train Score: %f MAPE' % (trainScore2))\n",
    "testScore2 = np.mean(np.abs(testPredict - testY)/np.abs(testY))\n",
    "print('Test Score: %f MAPE' % (testScore2))"
   ]
  },
  {
   "cell_type": "code",
   "execution_count": null,
   "metadata": {
    "colab": {
     "base_uri": "https://localhost:8080/",
     "height": 877
    },
    "colab_type": "code",
    "executionInfo": {
     "elapsed": 4967,
     "status": "ok",
     "timestamp": 1592480898654,
     "user": {
      "displayName": "biswajit padhi",
      "photoUrl": "",
      "userId": "13405267854865162652"
     },
     "user_tz": -330
    },
    "id": "hrrGPdzAIQ38",
    "outputId": "ad2fab67-790d-4957-ed45-1ba49438b22e"
   },
   "outputs": [],
   "source": [
    "\n",
    "index=df.index\n",
    "TestY= pd.DataFrame(testY,columns=['min_cpu','max_cpu','avg_cpu'])\n",
    "PredY=pd.DataFrame(testPredict,columns=['min_cpu','max_cpu','avg_cpu'])\n",
    "\n",
    "x=index[-1722:]\n",
    "fig, axs = plt.subplots(3,figsize=(10,15))\n",
    "\n",
    "axs[0].plot(x,TestY.min_cpu,'.',label='Test min CPU',color='red')\n",
    "axs[0].plot(x,PredY.min_cpu,'--',label='Predicted min CPU',color='black')\n",
    "axs[0].legend()\n",
    "axs[1].plot(x,TestY.max_cpu,'.',label='Test max CPU',color='magenta')\n",
    "axs[1].plot(x,PredY.max_cpu,'--',label='Predicted max CPU',color='navy')\n",
    "axs[1].legend()\n",
    "axs[2].plot(x,TestY.avg_cpu,'.',label='Test avg CPU',color='orange')\n",
    "axs[2].plot(x,PredY.avg_cpu,'--',label='Predicted avg CPU',color='darkgreen')\n",
    "axs[2].legend()\n",
    "for ax in axs.flat:\n",
    "    ax.set(xlabel='Timestamp', ylabel='Workload (CPU)',autoscale_on=True)\n",
    "for ax in axs:\n",
    "    ax.label_outer()\n",
    "#fig.suptitle('Prediction of Workload on Azure cloud at a particular timestamp',fontsize=20)\n",
    "plt.savefig('/content/drive/My Drive/azure download/data/indRnn output.png', dpi = 300)\n",
    "plt.show()"
   ]
  },
  {
   "cell_type": "code",
   "execution_count": null,
   "metadata": {
    "colab": {},
    "colab_type": "code",
    "id": "xlGWjwkrMq5q"
   },
   "outputs": [],
   "source": []
  }
 ],
 "metadata": {
  "colab": {
   "authorship_tag": "ABX9TyPURm3U9YA4l5mFD5FiFRQj",
   "collapsed_sections": [],
   "mount_file_id": "1RTdG2oJgI8KKAIGNflpAS9jI_sdHeKlC",
   "name": "prediction_of_vms_using_IndRNN.ipynb",
   "provenance": []
  },
  "kernelspec": {
   "display_name": "Python 3 (ipykernel)",
   "language": "python",
   "name": "python3"
  },
  "language_info": {
   "codemirror_mode": {
    "name": "ipython",
    "version": 3
   },
   "file_extension": ".py",
   "mimetype": "text/x-python",
   "name": "python",
   "nbconvert_exporter": "python",
   "pygments_lexer": "ipython3",
   "version": "3.9.7"
  }
 },
 "nbformat": 4,
 "nbformat_minor": 1
}
