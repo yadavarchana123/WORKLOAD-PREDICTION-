{
 "cells": [
  {
   "cell_type": "code",
   "execution_count": 1,
   "id": "358defd2",
   "metadata": {
    "scrolled": true
   },
   "outputs": [],
   "source": [
    "import math \n",
    "import numpy as np \n",
    "import pandas as pd\n",
    "from sklearn.preprocessing import MinMaxScaler\n",
    "from sklearn.metrics import mean_squared_error\n",
    "import matplotlib.pyplot as plt \n",
    "import tensorflow as tf \n",
    "import keras \n"
   ]
  },
  {
   "cell_type": "code",
   "execution_count": 2,
   "id": "6eee072b",
   "metadata": {},
   "outputs": [
    {
     "data": {
      "text/html": [
       "<div>\n",
       "<style scoped>\n",
       "    .dataframe tbody tr th:only-of-type {\n",
       "        vertical-align: middle;\n",
       "    }\n",
       "\n",
       "    .dataframe tbody tr th {\n",
       "        vertical-align: top;\n",
       "    }\n",
       "\n",
       "    .dataframe thead th {\n",
       "        text-align: right;\n",
       "    }\n",
       "</style>\n",
       "<table border=\"1\" class=\"dataframe\">\n",
       "  <thead>\n",
       "    <tr style=\"text-align: right;\">\n",
       "      <th></th>\n",
       "      <th>norm_min_cpu</th>\n",
       "      <th>norm_max_cpu</th>\n",
       "      <th>norm_avg</th>\n",
       "    </tr>\n",
       "    <tr>\n",
       "      <th>timestamp</th>\n",
       "      <th></th>\n",
       "      <th></th>\n",
       "      <th></th>\n",
       "    </tr>\n",
       "  </thead>\n",
       "  <tbody>\n",
       "    <tr>\n",
       "      <th>2017-01-01 00:00:00</th>\n",
       "      <td>0.2283</td>\n",
       "      <td>0.2346</td>\n",
       "      <td>0.2314</td>\n",
       "    </tr>\n",
       "    <tr>\n",
       "      <th>2017-01-01 00:05:00</th>\n",
       "      <td>0.2023</td>\n",
       "      <td>0.2282</td>\n",
       "      <td>0.2152</td>\n",
       "    </tr>\n",
       "    <tr>\n",
       "      <th>2017-01-01 00:10:00</th>\n",
       "      <td>0.2120</td>\n",
       "      <td>0.2286</td>\n",
       "      <td>0.2203</td>\n",
       "    </tr>\n",
       "    <tr>\n",
       "      <th>2017-01-01 00:15:00</th>\n",
       "      <td>0.1809</td>\n",
       "      <td>0.2137</td>\n",
       "      <td>0.1973</td>\n",
       "    </tr>\n",
       "    <tr>\n",
       "      <th>2017-01-01 00:20:00</th>\n",
       "      <td>0.1807</td>\n",
       "      <td>0.2114</td>\n",
       "      <td>0.1960</td>\n",
       "    </tr>\n",
       "  </tbody>\n",
       "</table>\n",
       "</div>"
      ],
      "text/plain": [
       "                     norm_min_cpu  norm_max_cpu  norm_avg\n",
       "timestamp                                                \n",
       "2017-01-01 00:00:00        0.2283        0.2346    0.2314\n",
       "2017-01-01 00:05:00        0.2023        0.2282    0.2152\n",
       "2017-01-01 00:10:00        0.2120        0.2286    0.2203\n",
       "2017-01-01 00:15:00        0.1809        0.2137    0.1973\n",
       "2017-01-01 00:20:00        0.1807        0.2114    0.1960"
      ]
     },
     "execution_count": 2,
     "metadata": {},
     "output_type": "execute_result"
    }
   ],
   "source": [
    "df = pd.read_csv('AzureReadings_at_a_timestamp1.csv')  \n",
    "df['timestamp'] =  pd.to_datetime(df['timestamp']) \n",
    "df = df.set_index('timestamp')\n",
    "df.head() "
   ]
  },
  {
   "cell_type": "code",
   "execution_count": 3,
   "id": "080aafed",
   "metadata": {},
   "outputs": [],
   "source": [
    "dataset = df.values \n",
    "dataset = dataset.astype('float32') "
   ]
  },
  {
   "cell_type": "code",
   "execution_count": 4,
   "id": "b5713cfd",
   "metadata": {},
   "outputs": [],
   "source": [
    "scaler = MinMaxScaler(feature_range=(0, 1)) \n",
    "dataset = scaler.fit_transform(dataset)"
   ]
  },
  {
   "cell_type": "code",
   "execution_count": 5,
   "id": "4bbb0223",
   "metadata": {},
   "outputs": [
    {
     "name": "stdout",
     "output_type": "stream",
     "text": [
      "6912 1728\n"
     ]
    }
   ],
   "source": [
    "train_size = int(len(dataset) * 0.8) \n",
    "test_size = len(dataset) - train_size \n",
    "train, test = dataset[0:train_size, :], dataset[train_size:len(dataset), :]\n",
    "print(len(train), len(test))"
   ]
  },
  {
   "cell_type": "code",
   "execution_count": 6,
   "id": "b4f8d7f3",
   "metadata": {},
   "outputs": [],
   "source": [
    "def create_training_dataset(dataset, look_back=1): \n",
    "    dataX, dataY = [], []\n",
    "    for i in range(len(dataset)-look_back-1):\n",
    "        a = dataset[i:(i+look_back), :3]\n",
    "        dataX.append(a)\n",
    "        dataY.append(dataset[i + look_back, :])\n",
    "    return np.array(dataX), np.array(dataY)"
   ]
  },
  {
   "cell_type": "code",
   "execution_count": 7,
   "id": "3b36f0d5",
   "metadata": {},
   "outputs": [],
   "source": [
    "look_back = 5 \n",
    "trainX, trainY = create_training_dataset(train, look_back=look_back)\n",
    "testX, testY = create_training_dataset(test, look_back=look_back)"
   ]
  },
  {
   "cell_type": "code",
   "execution_count": 9,
   "id": "c5629528",
   "metadata": {},
   "outputs": [
    {
     "data": {
      "text/plain": [
       "(6906, 5, 3)"
      ]
     },
     "execution_count": 9,
     "metadata": {},
     "output_type": "execute_result"
    }
   ],
   "source": [
    "trainX.shape "
   ]
  },
  {
   "cell_type": "code",
   "execution_count": 10,
   "id": "e33a98a1",
   "metadata": {},
   "outputs": [],
   "source": [
    "model = keras.models.Sequential() \n",
    "model.add(keras.layers.LSTM(128, input_shape=(trainX.shape[1], trainX.shape[2])))\n",
    "model.add(keras.layers.Dense(3))"
   ]
  },
  {
   "cell_type": "code",
   "execution_count": 11,
   "id": "a1799394",
   "metadata": {},
   "outputs": [
    {
     "name": "stderr",
     "output_type": "stream",
     "text": [
      "C:\\ProgramData\\Anaconda3\\lib\\site-packages\\keras\\optimizer_v2\\adam.py:105: UserWarning: The `lr` argument is deprecated, use `learning_rate` instead.\n",
      "  super(Adam, self).__init__(name, **kwargs)\n"
     ]
    }
   ],
   "source": [
    "adamOpt = tf.keras.optimizers.Adam(lr=0.001, beta_1=0.9, beta_2=0.999, decay=0.0, amsgrad=False)\n",
    "model.compile(loss='mean_squared_error', optimizer=adamOpt, metrics=['mae'])"
   ]
  },
  {
   "cell_type": "code",
   "execution_count": 12,
   "id": "297e0c8c",
   "metadata": {
    "scrolled": false
   },
   "outputs": [
    {
     "name": "stdout",
     "output_type": "stream",
     "text": [
      "Model: \"sequential\"\n",
      "_________________________________________________________________\n",
      " Layer (type)                Output Shape              Param #   \n",
      "=================================================================\n",
      " lstm (LSTM)                 (None, 128)               67584     \n",
      "                                                                 \n",
      " dense (Dense)               (None, 3)                 387       \n",
      "                                                                 \n",
      "=================================================================\n",
      "Total params: 67,971\n",
      "Trainable params: 67,971\n",
      "Non-trainable params: 0\n",
      "_________________________________________________________________\n"
     ]
    }
   ],
   "source": [
    "model.summary()"
   ]
  },
  {
   "cell_type": "code",
   "execution_count": 13,
   "id": "13c76e3d",
   "metadata": {},
   "outputs": [
    {
     "name": "stdout",
     "output_type": "stream",
     "text": [
      "Epoch 1/20\n",
      "87/87 - 5s - loss: 0.0044 - mae: 0.0414 - val_loss: 6.6758e-04 - val_mae: 0.0204 - 5s/epoch - 56ms/step\n",
      "Epoch 2/20\n",
      "87/87 - 1s - loss: 8.5123e-04 - mae: 0.0196 - val_loss: 6.1970e-04 - val_mae: 0.0198 - 856ms/epoch - 10ms/step\n",
      "Epoch 3/20\n",
      "87/87 - 1s - loss: 7.9726e-04 - mae: 0.0187 - val_loss: 5.7349e-04 - val_mae: 0.0187 - 845ms/epoch - 10ms/step\n",
      "Epoch 4/20\n",
      "87/87 - 1s - loss: 7.4873e-04 - mae: 0.0180 - val_loss: 5.4883e-04 - val_mae: 0.0182 - 836ms/epoch - 10ms/step\n",
      "Epoch 5/20\n",
      "87/87 - 1s - loss: 7.1328e-04 - mae: 0.0175 - val_loss: 5.3360e-04 - val_mae: 0.0180 - 834ms/epoch - 10ms/step\n",
      "Epoch 6/20\n",
      "87/87 - 1s - loss: 7.0376e-04 - mae: 0.0175 - val_loss: 5.6829e-04 - val_mae: 0.0186 - 833ms/epoch - 10ms/step\n",
      "Epoch 7/20\n",
      "87/87 - 1s - loss: 6.6191e-04 - mae: 0.0169 - val_loss: 5.0352e-04 - val_mae: 0.0175 - 831ms/epoch - 10ms/step\n",
      "Epoch 8/20\n",
      "87/87 - 1s - loss: 6.4337e-04 - mae: 0.0168 - val_loss: 5.7441e-04 - val_mae: 0.0191 - 831ms/epoch - 10ms/step\n",
      "Epoch 9/20\n",
      "87/87 - 1s - loss: 6.2167e-04 - mae: 0.0164 - val_loss: 4.8059e-04 - val_mae: 0.0169 - 837ms/epoch - 10ms/step\n",
      "Epoch 10/20\n",
      "87/87 - 1s - loss: 6.0462e-04 - mae: 0.0162 - val_loss: 5.0040e-04 - val_mae: 0.0170 - 835ms/epoch - 10ms/step\n",
      "Epoch 11/20\n",
      "87/87 - 1s - loss: 5.8384e-04 - mae: 0.0160 - val_loss: 4.7430e-04 - val_mae: 0.0167 - 837ms/epoch - 10ms/step\n",
      "Epoch 12/20\n",
      "87/87 - 1s - loss: 5.6446e-04 - mae: 0.0158 - val_loss: 5.1910e-04 - val_mae: 0.0172 - 890ms/epoch - 10ms/step\n",
      "Epoch 13/20\n",
      "87/87 - 1s - loss: 5.6074e-04 - mae: 0.0158 - val_loss: 4.5419e-04 - val_mae: 0.0166 - 943ms/epoch - 11ms/step\n",
      "Epoch 14/20\n",
      "87/87 - 1s - loss: 5.3404e-04 - mae: 0.0153 - val_loss: 4.4149e-04 - val_mae: 0.0162 - 839ms/epoch - 10ms/step\n",
      "Epoch 15/20\n",
      "87/87 - 1s - loss: 5.2057e-04 - mae: 0.0152 - val_loss: 4.5394e-04 - val_mae: 0.0162 - 836ms/epoch - 10ms/step\n",
      "Epoch 16/20\n",
      "87/87 - 1s - loss: 5.1811e-04 - mae: 0.0151 - val_loss: 4.4240e-04 - val_mae: 0.0162 - 829ms/epoch - 10ms/step\n",
      "Epoch 17/20\n",
      "87/87 - 1s - loss: 5.1306e-04 - mae: 0.0151 - val_loss: 4.3389e-04 - val_mae: 0.0161 - 892ms/epoch - 10ms/step\n",
      "Epoch 18/20\n",
      "87/87 - 1s - loss: 5.0754e-04 - mae: 0.0151 - val_loss: 5.0881e-04 - val_mae: 0.0181 - 840ms/epoch - 10ms/step\n",
      "Epoch 19/20\n",
      "87/87 - 1s - loss: 4.9345e-04 - mae: 0.0149 - val_loss: 4.2045e-04 - val_mae: 0.0156 - 831ms/epoch - 10ms/step\n",
      "Epoch 20/20\n",
      "87/87 - 1s - loss: 4.8928e-04 - mae: 0.0149 - val_loss: 4.3230e-04 - val_mae: 0.0159 - 838ms/epoch - 10ms/step\n"
     ]
    }
   ],
   "source": [
    "# callback = keras.callbacks.EarlyStopping(monitor='loss', patience=3)\n",
    "history = model.fit(trainX, trainY, validation_split=0.2,epochs=20, batch_size=64, verbose=2)"
   ]
  },
  {
   "cell_type": "code",
   "execution_count": 14,
   "id": "7906b762",
   "metadata": {},
   "outputs": [
    {
     "name": "stdout",
     "output_type": "stream",
     "text": [
      "54/54 [==============================] - ETA: 0s - loss: 5.5713e-04 - mae: 0.016 - 0s 5ms/step - loss: 5.2860e-04 - mae: 0.0160\n"
     ]
    },
    {
     "data": {
      "text/plain": [
       "[0.0005285989609546959, 0.016033971682190895]"
      ]
     },
     "execution_count": 14,
     "metadata": {},
     "output_type": "execute_result"
    }
   ],
   "source": [
    "model.evaluate(testX, testY)"
   ]
  },
  {
   "cell_type": "code",
   "execution_count": 15,
   "id": "cd853e53",
   "metadata": {},
   "outputs": [
    {
     "data": {
      "text/plain": [
       "['loss', 'mae']"
      ]
     },
     "execution_count": 15,
     "metadata": {},
     "output_type": "execute_result"
    }
   ],
   "source": [
    "model.metrics_names"
   ]
  },
  {
   "cell_type": "code",
   "execution_count": 16,
   "id": "3382ce31",
   "metadata": {},
   "outputs": [],
   "source": [
    "trainPredict = model.predict(trainX) # generate predictions for training\n",
    "testPredict = model.predict(testX)"
   ]
  },
  {
   "cell_type": "code",
   "execution_count": 17,
   "id": "b60c0ecb",
   "metadata": {},
   "outputs": [],
   "source": [
    "trainY = scaler.inverse_transform(trainY)\n",
    "trainPredict = scaler.inverse_transform(trainPredict)\n",
    "testY = scaler.inverse_transform(testY)\n",
    "testPredict = scaler.inverse_transform(testPredict)"
   ]
  },
  {
   "cell_type": "code",
   "execution_count": 18,
   "id": "7b3e08cc",
   "metadata": {},
   "outputs": [
    {
     "ename": "SyntaxError",
     "evalue": "invalid syntax (Temp/ipykernel_11480/2875214300.py, line 3)",
     "output_type": "error",
     "traceback": [
      "\u001b[1;36m  File \u001b[1;32m\"C:\\Users\\archa\\AppData\\Local\\Temp/ipykernel_11480/2875214300.py\"\u001b[1;36m, line \u001b[1;32m3\u001b[0m\n\u001b[1;33m    testScore = math.sqrt(mean_squared_error(testY[:], testPredict[:]))\u001b[0m\n\u001b[1;37m    ^\u001b[0m\n\u001b[1;31mSyntaxError\u001b[0m\u001b[1;31m:\u001b[0m invalid syntax\n"
     ]
    }
   ],
   "source": [
    "trainScore = math.sqrt(mean_squared_error(trainY[:], trainPredict[:])) # Estimate model performance\n",
    "print('Train Score: %.2f RMSE' % (trainScore)\n",
    "testScore = math.sqrt(mean_squared_error(testY[:], testPredict[:]))\n",
    "print('Test Score: %.2f RMSE' % (testScore))\n"
   ]
  },
  {
   "cell_type": "code",
   "execution_count": null,
   "id": "3de3a129",
   "metadata": {},
   "outputs": [],
   "source": [
    "from sklearn.metrics import mean_absolute_error\n",
    "trainScore = (mean_absolute_error(trainY[:], trainPredict[:]))\n",
    "print('Train Score: %f MAE' % (trainScore))\n",
    "testScore = math.sqrt(mean_absolute_error(testY[:], testPredict[:]))\n",
    "print('Test Score: %f MAE' % (testScore))"
   ]
  },
  {
   "cell_type": "code",
   "execution_count": null,
   "id": "2a28ad62",
   "metadata": {},
   "outputs": [],
   "source": [
    "trainScore2 = np.mean(np.abs(trainPredict - trainY)/np.abs(trainY))\n",
    "print('Train Score: %f MAPE' % (trainScore2))\n",
    "testScore2 = np.mean(np.abs(testPredict - testY)/np.abs(testY))\n",
    "print('Test Score: %f MAPE' % (testScore2))"
   ]
  },
  {
   "cell_type": "code",
   "execution_count": null,
   "id": "3800c027",
   "metadata": {},
   "outputs": [],
   "source": [
    "index=df.index\n",
    "TestY= pd.DataFrame(testY,columns=['min_cpu','max_cpu','avg_cpu'])\n",
    "PredY=pd.DataFrame(testPredict,columns=['min_cpu','max_cpu','avg_cpu'])\n",
    "\n",
    "x=index[-1722:]\n",
    "fig, axs = plt.subplots(3,figsize=(10,15)) # plot baseline and predictions\n",
    "\n",
    "axs[0].plot(x,TestY.min_cpu,'.',label='Test min CPU',color='red')\n",
    "axs[0].plot(x,PredY.min_cpu,'--',label='Predicted min CPU',color='black')\n",
    "axs[0].legend()\n",
    "axs[1].plot(x,TestY.max_cpu,'.',label='Test max CPU',color='magenta')\n",
    "axs[1].plot(x,PredY.max_cpu,'--',label='Predicted max CPU',color='navy')\n",
    "axs[1].legend()\n",
    "axs[2].plot(x,TestY.avg_cpu,'.',label='Test avg CPU',color='orange')\n",
    "axs[2].plot(x,PredY.avg_cpu,'--',label='Predicted avg CPU',color='darkgreen')\n",
    "axs[2].legend()\n",
    "for ax in axs.flat:\n",
    "    ax.set(xlabel='Timestamp', ylabel='Workload (CPU)',autoscale_on=True)\n",
    "for ax in axs:\n",
    "    ax.label_outer()\n",
    "#fig.suptitle('Prediction of Workload on Azure cloud at a particular timestamp',fontsize=20)\n",
    "plt.savefig('gru_output.png', dpi = 300)\n",
    "plt.show()"
   ]
  },
  {
   "cell_type": "code",
   "execution_count": null,
   "id": "516fd481",
   "metadata": {},
   "outputs": [],
   "source": []
  },
  {
   "cell_type": "code",
   "execution_count": null,
   "id": "80212b2e",
   "metadata": {},
   "outputs": [],
   "source": []
  }
 ],
 "metadata": {
  "kernelspec": {
   "display_name": "Python 3 (ipykernel)",
   "language": "python",
   "name": "python3"
  },
  "language_info": {
   "codemirror_mode": {
    "name": "ipython",
    "version": 3
   },
   "file_extension": ".py",
   "mimetype": "text/x-python",
   "name": "python",
   "nbconvert_exporter": "python",
   "pygments_lexer": "ipython3",
   "version": "3.9.7"
  }
 },
 "nbformat": 4,
 "nbformat_minor": 5
}
