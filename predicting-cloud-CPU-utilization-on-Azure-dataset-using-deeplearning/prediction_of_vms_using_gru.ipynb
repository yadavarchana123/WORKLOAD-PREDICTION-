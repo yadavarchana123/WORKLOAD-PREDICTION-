{
 "cells": [
  {
   "cell_type": "markdown",
   "metadata": {
    "colab_type": "text",
    "id": "qzpHlD3UT9x5"
   },
   "source": [
    "**Importing libraries**"
   ]
  },
  {
   "cell_type": "code",
   "execution_count": 1,
   "metadata": {
    "colab": {
     "base_uri": "https://localhost:8080/",
     "height": 34
    },
    "colab_type": "code",
    "executionInfo": {
     "elapsed": 3438,
     "status": "ok",
     "timestamp": 1592479770356,
     "user": {
      "displayName": "biswajit padhi",
      "photoUrl": "",
      "userId": "13405267854865162652"
     },
     "user_tz": -330
    },
    "id": "GQgrsUfUMBnK",
    "outputId": "997c3d41-8269-465e-963d-82adea9146a9"
   },
   "outputs": [],
   "source": [
    "import math\n",
    "import numpy as np\n",
    "import pandas as pd\n",
    "import matplotlib.pyplot as plt\n",
    "from sklearn.preprocessing import MinMaxScaler\n",
    "from sklearn.metrics import mean_squared_error\n",
    "import keras"
   ]
  },
  {
   "cell_type": "code",
   "execution_count": null,
   "metadata": {
    "colab": {
     "base_uri": "https://localhost:8080/",
     "height": 121
    },
    "colab_type": "code",
    "executionInfo": {
     "elapsed": 59210,
     "status": "ok",
     "timestamp": 1592479826143,
     "user": {
      "displayName": "biswajit padhi",
      "photoUrl": "",
      "userId": "13405267854865162652"
     },
     "user_tz": -330
    },
    "id": "EN2MP3p3fjXf",
    "outputId": "8933ec27-1e3f-4d91-85d5-1459274220a8"
   },
   "outputs": [],
   "source": [
    "from google.colab import drive\n",
    "drive.mount('/content/drive')"
   ]
  },
  {
   "cell_type": "markdown",
   "metadata": {
    "colab_type": "text",
    "id": "wv0DtcXMUELQ"
   },
   "source": [
    "**Reading data**"
   ]
  },
  {
   "cell_type": "code",
   "execution_count": null,
   "metadata": {
    "colab": {},
    "colab_type": "code",
    "id": "jKujQtnFqoWo"
   },
   "outputs": [],
   "source": [
    "tt1 = pd.read_csv('AzureReadings_at_a_timestamp.csv')"
   ]
  },
  {
   "cell_type": "code",
   "execution_count": null,
   "metadata": {
    "colab": {
     "base_uri": "https://localhost:8080/",
     "height": 195
    },
    "colab_type": "code",
    "executionInfo": {
     "elapsed": 60131,
     "status": "ok",
     "timestamp": 1592479827078,
     "user": {
      "displayName": "biswajit padhi",
      "photoUrl": "",
      "userId": "13405267854865162652"
     },
     "user_tz": -330
    },
    "id": "nnOBL1NIfP6u",
    "outputId": "b408e784-9932-47c1-e2d2-63a09f254097"
   },
   "outputs": [],
   "source": [
    "tt1.head()"
   ]
  },
  {
   "cell_type": "code",
   "execution_count": null,
   "metadata": {
    "colab": {},
    "colab_type": "code",
    "id": "_yUcsAtsRpdv"
   },
   "outputs": [],
   "source": [
    "tt1['timestamp'] =  pd.to_datetime(tt1['timestamp'])"
   ]
  },
  {
   "cell_type": "code",
   "execution_count": null,
   "metadata": {
    "colab": {},
    "colab_type": "code",
    "id": "tHkMi_-fR1tl"
   },
   "outputs": [],
   "source": [
    "tt1 = tt1.set_index('timestamp')"
   ]
  },
  {
   "cell_type": "code",
   "execution_count": null,
   "metadata": {
    "colab": {
     "base_uri": "https://localhost:8080/",
     "height": 225
    },
    "colab_type": "code",
    "executionInfo": {
     "elapsed": 60119,
     "status": "ok",
     "timestamp": 1592479827082,
     "user": {
      "displayName": "biswajit padhi",
      "photoUrl": "",
      "userId": "13405267854865162652"
     },
     "user_tz": -330
    },
    "id": "0j0wuUhKSZt8",
    "outputId": "2a45c961-ddce-475f-ea35-7b12e05b2c71"
   },
   "outputs": [],
   "source": [
    "tt1.head()"
   ]
  },
  {
   "cell_type": "code",
   "execution_count": null,
   "metadata": {
    "colab": {},
    "colab_type": "code",
    "id": "QQdihjXYrQDD"
   },
   "outputs": [],
   "source": [
    "tt = tt1"
   ]
  },
  {
   "cell_type": "code",
   "execution_count": null,
   "metadata": {
    "colab": {},
    "colab_type": "code",
    "id": "5oP1aHC8Mjf7"
   },
   "outputs": [],
   "source": [
    "dataset = tt.values\n",
    "dataset = dataset.astype('float32')"
   ]
  },
  {
   "cell_type": "code",
   "execution_count": null,
   "metadata": {
    "colab": {
     "base_uri": "https://localhost:8080/",
     "height": 34
    },
    "colab_type": "code",
    "executionInfo": {
     "elapsed": 60110,
     "status": "ok",
     "timestamp": 1592479827088,
     "user": {
      "displayName": "biswajit padhi",
      "photoUrl": "",
      "userId": "13405267854865162652"
     },
     "user_tz": -330
    },
    "id": "bci2zhVAcn0F",
    "outputId": "a3a971d0-a15b-4989-d2b2-c1ac9d63d0de"
   },
   "outputs": [],
   "source": [
    "len(dataset)"
   ]
  },
  {
   "cell_type": "code",
   "execution_count": null,
   "metadata": {
    "colab": {},
    "colab_type": "code",
    "id": "3KtGWqe_MmwK"
   },
   "outputs": [],
   "source": [
    "scaler = MinMaxScaler(feature_range=(0, 1))\n",
    "dataset = scaler.fit_transform(dataset)"
   ]
  },
  {
   "cell_type": "code",
   "execution_count": null,
   "metadata": {
    "colab": {
     "base_uri": "https://localhost:8080/",
     "height": 34
    },
    "colab_type": "code",
    "executionInfo": {
     "elapsed": 60101,
     "status": "ok",
     "timestamp": 1592479827090,
     "user": {
      "displayName": "biswajit padhi",
      "photoUrl": "",
      "userId": "13405267854865162652"
     },
     "user_tz": -330
    },
    "id": "sUZM4YFhMosU",
    "outputId": "a0496d0a-baee-4a03-feea-c7183a1689e5"
   },
   "outputs": [],
   "source": [
    "train_size = int(len(dataset) * 0.8)\n",
    "test_size = len(dataset) - train_size\n",
    "train, test = dataset[0:train_size, :], dataset[train_size:len(dataset), :]\n",
    "print(len(train), len(test))"
   ]
  },
  {
   "cell_type": "code",
   "execution_count": null,
   "metadata": {
    "colab": {},
    "colab_type": "code",
    "id": "BkV5ienINJur"
   },
   "outputs": [],
   "source": [
    "def create_training_dataset(dataset, look_back=1):\n",
    "    dataX, dataY = [], []\n",
    "    for i in range(len(dataset)-look_back-1):\n",
    "        a = dataset[i:(i+look_back), :3]\n",
    "        dataX.append(a)\n",
    "        dataY.append(dataset[i + look_back, :])\n",
    "    return np.array(dataX), np.array(dataY)"
   ]
  },
  {
   "cell_type": "code",
   "execution_count": null,
   "metadata": {
    "colab": {},
    "colab_type": "code",
    "id": "w9RCE5CXNMAc"
   },
   "outputs": [],
   "source": [
    "look_back = 5\n",
    "trainX, trainY = create_training_dataset(train, look_back=look_back)\n",
    "testX, testY = create_training_dataset(test, look_back=look_back)"
   ]
  },
  {
   "cell_type": "markdown",
   "metadata": {
    "colab_type": "text",
    "id": "NN9fWvvpULU1"
   },
   "source": [
    "**Building Model**"
   ]
  },
  {
   "cell_type": "code",
   "execution_count": null,
   "metadata": {
    "colab": {},
    "colab_type": "code",
    "id": "hwU8vmL6NPob"
   },
   "outputs": [],
   "source": [
    "model = keras.models.Sequential()\n",
    "model.add(keras.layers.GRU(128, input_shape=(trainX.shape[1], trainX.shape[2])))\n",
    "model.add(keras.layers.Dense(3))"
   ]
  },
  {
   "cell_type": "code",
   "execution_count": null,
   "metadata": {
    "colab": {},
    "colab_type": "code",
    "id": "YvUMpinkNhrD"
   },
   "outputs": [],
   "source": [
    "adamOpt = keras.optimizers.Adam(lr=0.001, beta_1=0.9, beta_2=0.999, decay=0.0, amsgrad=False)\n",
    "model.compile(loss='mean_squared_error', optimizer=adamOpt, metrics=['mae'])"
   ]
  },
  {
   "cell_type": "code",
   "execution_count": null,
   "metadata": {
    "colab": {
     "base_uri": "https://localhost:8080/",
     "height": 218
    },
    "colab_type": "code",
    "executionInfo": {
     "elapsed": 60848,
     "status": "ok",
     "timestamp": 1592479827859,
     "user": {
      "displayName": "biswajit padhi",
      "photoUrl": "",
      "userId": "13405267854865162652"
     },
     "user_tz": -330
    },
    "id": "ClZOiJPG2Qvr",
    "outputId": "48b1282f-f359-4c11-d522-06dc037ec45c"
   },
   "outputs": [],
   "source": [
    "model.summary()"
   ]
  },
  {
   "cell_type": "markdown",
   "metadata": {
    "colab_type": "text",
    "id": "kW89d-koUQai"
   },
   "source": [
    "**Training Model**"
   ]
  },
  {
   "cell_type": "code",
   "execution_count": null,
   "metadata": {
    "colab": {
     "base_uri": "https://localhost:8080/",
     "height": 706
    },
    "colab_type": "code",
    "executionInfo": {
     "elapsed": 80669,
     "status": "ok",
     "timestamp": 1592479847690,
     "user": {
      "displayName": "biswajit padhi",
      "photoUrl": "",
      "userId": "13405267854865162652"
     },
     "user_tz": -330
    },
    "id": "ZwdvAhlyNj84",
    "outputId": "1a2a1e5b-2f75-4296-c2ab-7505b9d98d91"
   },
   "outputs": [],
   "source": [
    "history = model.fit(trainX, trainY, validation_split=0.25,epochs=20, batch_size=64, verbose=2)"
   ]
  },
  {
   "cell_type": "markdown",
   "metadata": {
    "colab_type": "text",
    "id": "Gj8PWhdEUVQR"
   },
   "source": [
    "**Predicting**"
   ]
  },
  {
   "cell_type": "code",
   "execution_count": null,
   "metadata": {
    "colab": {},
    "colab_type": "code",
    "id": "3ymoq6Z3Nk9R"
   },
   "outputs": [],
   "source": [
    "trainPredict = model.predict(trainX)\n",
    "testPredict = model.predict(testX)"
   ]
  },
  {
   "cell_type": "code",
   "execution_count": null,
   "metadata": {
    "colab": {},
    "colab_type": "code",
    "id": "0moVT6ldNseq"
   },
   "outputs": [],
   "source": [
    "trainY = scaler.inverse_transform(trainY)\n",
    "trainPredict = scaler.inverse_transform(trainPredict)\n",
    "testY = scaler.inverse_transform(testY)\n",
    "testPredict = scaler.inverse_transform(testPredict)"
   ]
  },
  {
   "cell_type": "markdown",
   "metadata": {
    "colab_type": "text",
    "id": "0J4ekRqaUbHX"
   },
   "source": [
    "**Evaluating Model**"
   ]
  },
  {
   "cell_type": "markdown",
   "metadata": {
    "colab_type": "text",
    "id": "0KWavjs3Ui6V"
   },
   "source": [
    "1. Evaluation metrics: RMSE(Root Mean Square Error)"
   ]
  },
  {
   "cell_type": "code",
   "execution_count": null,
   "metadata": {
    "colab": {
     "base_uri": "https://localhost:8080/",
     "height": 50
    },
    "colab_type": "code",
    "executionInfo": {
     "elapsed": 80658,
     "status": "ok",
     "timestamp": 1592479847693,
     "user": {
      "displayName": "biswajit padhi",
      "photoUrl": "",
      "userId": "13405267854865162652"
     },
     "user_tz": -330
    },
    "id": "U46scotYNwms",
    "outputId": "b8af7f68-5e85-4f85-b430-a878d4e5d1be"
   },
   "outputs": [],
   "source": [
    "trainScore = math.sqrt(mean_squared_error(trainY[:], trainPredict[:]))\n",
    "print('Train Score: %.2f RMSE' % (trainScore))\n",
    "testScore = math.sqrt(mean_squared_error(testY[:], testPredict[:]))\n",
    "print('Test Score: %.2f RMSE' % (testScore))"
   ]
  },
  {
   "cell_type": "markdown",
   "metadata": {
    "colab_type": "text",
    "id": "QFdkVEgDaBZK"
   },
   "source": [
    "2. Evaluation metrics: MAE(Mean Absolute Error)"
   ]
  },
  {
   "cell_type": "code",
   "execution_count": null,
   "metadata": {
    "colab": {
     "base_uri": "https://localhost:8080/",
     "height": 50
    },
    "colab_type": "code",
    "executionInfo": {
     "elapsed": 80647,
     "status": "ok",
     "timestamp": 1592479847694,
     "user": {
      "displayName": "biswajit padhi",
      "photoUrl": "",
      "userId": "13405267854865162652"
     },
     "user_tz": -330
    },
    "id": "urSB6BcwWOHk",
    "outputId": "d5dac2f1-90e2-4800-c3af-95e07009b8ff"
   },
   "outputs": [],
   "source": [
    "from sklearn.metrics import mean_absolute_error\n",
    "trainScore = (mean_absolute_error(trainY[:], trainPredict[:]))\n",
    "print('Train Score: %f MAE' % (trainScore))\n",
    "testScore = math.sqrt(mean_absolute_error(testY[:], testPredict[:]))\n",
    "print('Test Score: %f MAE' % (testScore))"
   ]
  },
  {
   "cell_type": "markdown",
   "metadata": {
    "colab_type": "text",
    "id": "gvXNbU6MUodL"
   },
   "source": [
    "3. Evaluation metric: MAPE(Mean absolute percentage error)"
   ]
  },
  {
   "cell_type": "markdown",
   "metadata": {
    "colab_type": "text",
    "id": "h0AuAAz_UDBo"
   },
   "source": [
    "**Percentage errors**\n",
    "\n",
    "The percentage error is given by  \n",
    "p\n",
    "t\n",
    "=\n",
    "100\n",
    "e\n",
    "t\n",
    "/\n",
    "y\n",
    "t\n",
    " . \n",
    "\n",
    "Percentage errors have the advantage of being unit-free, and \n",
    "so are frequently used to compare forecast performances between data sets. \n",
    "\n",
    "The most commonly used measure is:\n",
    "Mean absolute percentage error: MAPE\n",
    "=\n",
    "mean\n",
    "(\n",
    "|\n",
    "p\n",
    "t\n",
    "|\n",
    ")\n"
   ]
  },
  {
   "cell_type": "code",
   "execution_count": null,
   "metadata": {
    "colab": {
     "base_uri": "https://localhost:8080/",
     "height": 50
    },
    "colab_type": "code",
    "executionInfo": {
     "elapsed": 80636,
     "status": "ok",
     "timestamp": 1592479847694,
     "user": {
      "displayName": "biswajit padhi",
      "photoUrl": "",
      "userId": "13405267854865162652"
     },
     "user_tz": -330
    },
    "id": "NmOvxmjTbMbP",
    "outputId": "1ef96dda-a929-45f4-8c3d-87985acd9d8c"
   },
   "outputs": [],
   "source": [
    "trainScore2 = np.mean(np.abs(trainPredict - trainY)/np.abs(trainY))\n",
    "print('Train Score: %f MAPE' % (trainScore2))\n",
    "testScore2 = np.mean(np.abs(testPredict - testY)/np.abs(testY))\n",
    "print('Test Score: %f MAPE' % (testScore2))"
   ]
  },
  {
   "cell_type": "markdown",
   "metadata": {
    "colab_type": "text",
    "id": "T7okf46nVBMG"
   },
   "source": [
    "4. Evaluation metric: Correaltion"
   ]
  },
  {
   "cell_type": "code",
   "execution_count": null,
   "metadata": {
    "colab": {
     "base_uri": "https://localhost:8080/",
     "height": 50
    },
    "colab_type": "code",
    "executionInfo": {
     "elapsed": 83386,
     "status": "ok",
     "timestamp": 1592479850455,
     "user": {
      "displayName": "biswajit padhi",
      "photoUrl": "",
      "userId": "13405267854865162652"
     },
     "user_tz": -330
    },
    "id": "jCcUsvx7bMbT",
    "outputId": "fb98bf56-0611-4935-d918-b2cf1d0a7c00"
   },
   "outputs": [],
   "source": [
    "trainScore3 = np.corrcoef(trainPredict, trainY)[0,1]\n",
    "print('Train Score: %f COR' % (trainScore3))\n",
    "testScore2 = np.corrcoef(testPredict, testY)[0,1]\n",
    "print('Test Score: %f COR' % (testScore2))"
   ]
  },
  {
   "cell_type": "markdown",
   "metadata": {
    "colab_type": "text",
    "id": "NGHiN1-PVQJo"
   },
   "source": [
    "**Plotting Graphs**"
   ]
  },
  {
   "cell_type": "code",
   "execution_count": null,
   "metadata": {
    "colab": {
     "base_uri": "https://localhost:8080/",
     "height": 877
    },
    "colab_type": "code",
    "executionInfo": {
     "elapsed": 5137,
     "status": "ok",
     "timestamp": 1592480906079,
     "user": {
      "displayName": "biswajit padhi",
      "photoUrl": "",
      "userId": "13405267854865162652"
     },
     "user_tz": -330
    },
    "id": "-Hw95qMwwjJt",
    "outputId": "550dc6e3-6602-4d4e-ba66-4106000b4fcf"
   },
   "outputs": [],
   "source": [
    "index=tt.index\n",
    "TestY= pd.DataFrame(testY,columns=['min_cpu','max_cpu','avg_cpu'])\n",
    "PredY=pd.DataFrame(testPredict,columns=['min_cpu','max_cpu','avg_cpu'])\n",
    "\n",
    "x=index[-1722:]\n",
    "fig, axs = plt.subplots(3,figsize=(10,15))\n",
    "\n",
    "axs[0].plot(x,TestY.min_cpu,'.',label='Test min CPU',color='red')\n",
    "axs[0].plot(x,PredY.min_cpu,'--',label='Predicted min CPU',color='black')\n",
    "axs[0].legend()\n",
    "axs[1].plot(x,TestY.max_cpu,'.',label='Test max CPU',color='magenta')\n",
    "axs[1].plot(x,PredY.max_cpu,'--',label='Predicted max CPU',color='navy')\n",
    "axs[1].legend()\n",
    "axs[2].plot(x,TestY.avg_cpu,'.',label='Test avg CPU',color='orange')\n",
    "axs[2].plot(x,PredY.avg_cpu,'--',label='Predicted avg CPU',color='darkgreen')\n",
    "axs[2].legend()\n",
    "for ax in axs.flat:\n",
    "    ax.set(xlabel='Timestamp', ylabel='Workload (CPU)',autoscale_on=True)\n",
    "for ax in axs:\n",
    "    ax.label_outer()\n",
    "#fig.suptitle('Prediction of Workload on Azure cloud at a particular timestamp',fontsize=20)\n",
    "plt.savefig('/content/drive/My Drive/azure download/data/LSTM output.png', dpi = 300)\n",
    "plt.show()"
   ]
  },
  {
   "cell_type": "code",
   "execution_count": null,
   "metadata": {
    "colab": {},
    "colab_type": "code",
    "id": "CYjkskTSnLfu"
   },
   "outputs": [],
   "source": []
  }
 ],
 "metadata": {
  "colab": {
   "collapsed_sections": [],
   "name": "prediction_of_vms_using_gru.ipynb",
   "provenance": []
  },
  "kernelspec": {
   "display_name": "Python 3 (ipykernel)",
   "language": "python",
   "name": "python3"
  },
  "language_info": {
   "codemirror_mode": {
    "name": "ipython",
    "version": 3
   },
   "file_extension": ".py",
   "mimetype": "text/x-python",
   "name": "python",
   "nbconvert_exporter": "python",
   "pygments_lexer": "ipython3",
   "version": "3.9.7"
  }
 },
 "nbformat": 4,
 "nbformat_minor": 1
}
